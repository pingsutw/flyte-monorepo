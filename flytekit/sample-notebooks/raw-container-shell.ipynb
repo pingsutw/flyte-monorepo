{
 "cells": [
  {
   "cell_type": "code",
   "execution_count": null,
   "metadata": {},
   "outputs": [],
   "source": [
    "from flytekit.configuration import set_flyte_config_file, platform\n",
    "set_flyte_config_file(\"notebook.config\")\n",
    "\n",
    "print(\"Connected to {}\".format(platform.URL.get()))\n",
    "\n",
    "def print_console_url(exc):\n",
    "    print(\"http://{}/console/projects/{}/domains/{}/executions/{}\".format(platform.URL.get(), exc.id.project, exc.id.domain, exc.id.name))"
   ]
  },
  {
   "cell_type": "markdown",
   "metadata": {},
   "source": [
    "# Demo: Workflow without flytekit dependency in containers\n",
    "\n",
    "This is a simple workflow where we will show how one can use flytekit to create a workflow that needs not container building, but uses an existing set of container to run logic. It also demonstrates that even in this case memoization, cataloging and input/output types are preserved.\n",
    "\n",
    "## Step I: Lets declare a couple tasks.\n",
    "\n",
    "### Task 1: square\n",
    "Given an integer returns the squre of the integer"
   ]
  },
  {
   "cell_type": "code",
   "execution_count": null,
   "metadata": {},
   "outputs": [],
   "source": [
    "from flytekit.common.tasks.raw_container import SdkRawContainerTask\n",
    "from flytekit.sdk.types import Types\n",
    "\n",
    "square = SdkRawContainerTask(\n",
    "    input_data_dir=\"/var/inputs\",\n",
    "    output_data_dir=\"/var/outputs\",\n",
    "    inputs={\"val\": Types.Integer},\n",
    "    outputs={\"out\": Types.Integer},\n",
    "    image=\"alpine\",\n",
    "    command=[\"sh\", \"-c\", \"echo $(( {{.Inputs.val}} * {{.Inputs.val}} )) | tee /var/outputs/out\"],\n",
    ")\n"
   ]
  },
  {
   "cell_type": "markdown",
   "metadata": {},
   "source": [
    "### Task 2: sum\n",
    "Given two integer x & y returns the sum (x + y)"
   ]
  },
  {
   "cell_type": "code",
   "execution_count": null,
   "metadata": {},
   "outputs": [],
   "source": [
    "sum = SdkRawContainerTask(\n",
    "    input_data_dir=\"/var/flyte/inputs\",\n",
    "    output_data_dir=\"/var/flyte/outputs\",\n",
    "    inputs={\"x\": Types.Integer, \"y\": Types.Integer},\n",
    "    outputs={\"out\": Types.Integer},\n",
    "    image=\"alpine\",\n",
    "    command=[\"sh\", \"-c\", \"echo $(( {{.Inputs.x}} + {{.Inputs.y}} )) | tee /var/flyte/outputs/out\"],\n",
    ")\n"
   ]
  },
  {
   "cell_type": "markdown",
   "metadata": {},
   "source": [
    "## Step II: Declare a workflow\n",
    "#### Sum of Squares\n",
    "Given two integers x & y, return (x^2 + y^2)\n",
    "This is composed using two functions\n",
    " sum_of_squares = sum(square(x),square(y))"
   ]
  },
  {
   "cell_type": "code",
   "execution_count": null,
   "metadata": {},
   "outputs": [],
   "source": [
    "from flytekit.sdk.workflow import workflow_class, Input, Output\n",
    "\n",
    "@workflow_class\n",
    "class SumOfSquares(object):\n",
    "    val1 = Input(Types.Integer)\n",
    "    val2 = Input(Types.Integer)\n",
    "    sq1 = square(val=val1)\n",
    "    sq2 = square(val=val2)\n",
    "    sm = sum(x=sq1.outputs.out, y=sq2.outputs.out)\n",
    "    sum_of_squares = Output(sm.outputs.out, sdk_type=Types.Integer)\n",
    "    \n",
    "SumOfSquares_lp = SumOfSquares.create_launch_plan() "
   ]
  },
  {
   "cell_type": "markdown",
   "metadata": {},
   "source": [
    "### Step III: Register the workflow & launch plan\n",
    "Register the workflow under project: flyteexamples "
   ]
  },
  {
   "cell_type": "code",
   "execution_count": null,
   "metadata": {},
   "outputs": [],
   "source": [
    "# Currently in flytekit you have to register the tasks first and then register the workflow\n",
    "square.register(name=\"square\", project=\"flyteexamples\", domain=\"development\", version=\"1\")\n",
    "sum.register(name=\"sum\", project=\"flyteexamples\", domain=\"development\", version=\"1\")\n",
    "\n",
    "# It will use the name of the tasks to find the registrations\n",
    "SumOfSquares.register(name=\"SumOfSquares\", project=\"flyteexamples\", domain=\"development\", version=\"1\")\n",
    "SumOfSquares_lp.register(name=\"SumOfSquares\", project=\"flyteexamples\", domain=\"development\", version=\"1\")"
   ]
  },
  {
   "cell_type": "code",
   "execution_count": null,
   "metadata": {},
   "outputs": [],
   "source": [
    "exc = SumOfSquares_lp.execute(\"flyteexamples\", \"development\", inputs={\"val1\": 3, \"val2\": 2})\n",
    "print_console_url(exc)"
   ]
  },
  {
   "cell_type": "code",
   "execution_count": null,
   "metadata": {},
   "outputs": [],
   "source": [
    "exc.wait_for_completion()"
   ]
  },
  {
   "cell_type": "code",
   "execution_count": null,
   "metadata": {},
   "outputs": [],
   "source": [
    "exc.outputs"
   ]
  },
  {
   "cell_type": "code",
   "execution_count": null,
   "metadata": {},
   "outputs": [],
   "source": []
  }
 ],
 "metadata": {
  "kernelspec": {
   "display_name": "Python 3",
   "language": "python",
   "name": "python3"
  },
  "language_info": {
   "codemirror_mode": {
    "name": "ipython",
    "version": 3
   },
   "file_extension": ".py",
   "mimetype": "text/x-python",
   "name": "python",
   "nbconvert_exporter": "python",
   "pygments_lexer": "ipython3",
   "version": "3.7.6"
  }
 },
 "nbformat": 4,
 "nbformat_minor": 2
}
