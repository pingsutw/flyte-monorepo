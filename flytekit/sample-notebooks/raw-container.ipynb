{
 "cells": [
  {
   "cell_type": "code",
   "execution_count": 49,
   "metadata": {},
   "outputs": [],
   "source": [
    "from flytekit.configuration import set_flyte_config_file\n",
    "set_flyte_config_file(\"notebook.config\")\n",
    "\n",
    "def print_console_url(exc):\n",
    "    print(\"http://localhost:30081/console/projects/{}/domains/{}/executions/{}\".format(exc.id.project, exc.id.domain, exc.id.name))"
   ]
  },
  {
   "cell_type": "code",
   "execution_count": 50,
   "metadata": {},
   "outputs": [],
   "source": [
    "import boto3\n",
    "from botocore.client import Config\n",
    "\n",
    "s3 = boto3.resource('s3',\n",
    "                    endpoint_url='http://localhost:30084',\n",
    "                    aws_access_key_id='minio',\n",
    "                    aws_secret_access_key='miniostorage',\n",
    "                    config=Config(signature_version='s3v4'),\n",
    "                    region_name='us-east-1')\n",
    "\n",
    "def upload_file(f, ref):\n",
    "    mod = ref.lstrip(\"s3://\")\n",
    "    bucket, path = mod.split(\"/\", 1)\n",
    "    s3.Bucket(bucket).upload_file('image.py',path)"
   ]
  },
  {
   "cell_type": "code",
   "execution_count": null,
   "metadata": {},
   "outputs": [],
   "source": [
    "from IPython.display import Image, display\n",
    "def display_images(paths):\n",
    "    for p in paths:\n",
    "        display(Image(p))\n"
   ]
  },
  {
   "cell_type": "markdown",
   "metadata": {},
   "source": [
    "# Demo: Remote iteration with an OpenCV Script, using an open source OpenCV Image\n",
    "\n",
    "We are using the filter_edges method that is available in the adjoining module - image.py\n",
    "> filter_edges"
   ]
  },
  {
   "cell_type": "markdown",
   "metadata": {},
   "source": [
    "## Step I: Run the filter_edges example within Jupyter Notebook First"
   ]
  },
  {
   "cell_type": "code",
   "execution_count": null,
   "metadata": {},
   "outputs": [],
   "source": [
    "from image import filter_edges"
   ]
  },
  {
   "cell_type": "code",
   "execution_count": null,
   "metadata": {},
   "outputs": [],
   "source": [
    "inp = \"image.jpg\" # This should be a path to an image that is available locally \n",
    "out = \"edges.png\" # This is the path to where we want to create the image\n",
    "filter_edges(inp, out)\n",
    "# Invoke the helper method that displays the image in Jupyter\n",
    "display_images([inp, out])"
   ]
  },
  {
   "cell_type": "markdown",
   "metadata": {},
   "source": [
    "## Step II: Create a Flyte Task for this function\n",
    "In this case we will use an SdkRawContainerTask. A raw container task is essentially a container task, where we tell Flyte, that this container does not have flytekit. So all the inputs and outputs should be auto-mounted and uploaded.\n",
    "The task can use an open source container `docker.io/jjanzic/docker-python3-opencv`. This container has python and OpenCV already installed.\n",
    "\n",
    "### Hot load the code\n",
    "If you notice the edges task accepts 2 inputs\n",
    "\"image\": the image to be converted\n",
    "\"script\": the script to execute. It is assumed the script to be executed is available in some bucket (s3) that is accessible by your Flyte task.\n",
    "\n",
    "### Command\n",
    "The most important part is the command\n",
    "```python\n",
    "[\"python\", \"/inputs/script\", \"/inputs/image\", \"/outputs/edges\"],\n",
    "```\n",
    "the command is just running python and the passed in script. Note the input name and output name\n",
    "The input name is the name of the \"input variable\". If this was a list of images, then this would be a directory.\n",
    "The output is also the name of the \"output variable\"\n",
    "\n",
    "The names are extremely important, as Flyte will only download the image locally to a file that has the name that matches the variable name. Also it will upload a file whose name matches the output variable name. The extension of the file does not matter."
   ]
  },
  {
   "cell_type": "code",
   "execution_count": null,
   "metadata": {},
   "outputs": [],
   "source": [
    "from flytekit.common.tasks.raw_container import SdkRawContainerTask\n",
    "from flytekit.sdk.types import Types\n",
    "\n",
    "edges = SdkRawContainerTask(\n",
    "    input_data_dir=\"/inputs\",\n",
    "    output_data_dir=\"/outputs\",\n",
    "    inputs={\"image\": Types.Blob, \"script\": Types.Blob},\n",
    "    outputs={\"edges\": Types.Blob},\n",
    "    image=\"docker.io/jjanzic/docker-python3-opencv\",\n",
    "    command=[\"python\", \"/inputs/script\", \"/inputs/image\", \"/outputs/edges\"],\n",
    ")\n",
    "\n",
    "   "
   ]
  },
  {
   "cell_type": "markdown",
   "metadata": {},
   "source": [
    "## Step IIIa: Just for this excercise\n",
    "To make the dynamic loading of the script work, we have to **upload the script to some s3 bucket**. Since we are testing this locally, I have originally created an s3 client that points to Flyte installed minio. Upload the code there too\n"
   ]
  },
  {
   "cell_type": "code",
   "execution_count": null,
   "metadata": {},
   "outputs": [],
   "source": [
    "script_path=\"s3://my-s3-bucket/code/image.py\"\n",
    "upload_file(\"image.py\", script_path)\n",
    "example_image=\"https://www.naturephotographysimplified.com/wp-content/uploads/2019/06/How-to-get-sharp-images-Birds-in-flight-Bharatpur-Bird-Sanctuary-bird-Photography-by-Prathap-DK-bronze-winged-jacana-Greater-Spotted-Eagle-750x500.jpg\""
   ]
  },
  {
   "cell_type": "markdown",
   "metadata": {},
   "source": [
    "## Step III: Launch an execution for the task\n",
    "This creates an execution of just the task. Remember in Flyte, Task is a standalone top level entity, so you can execute it"
   ]
  },
  {
   "cell_type": "code",
   "execution_count": null,
   "metadata": {
    "scrolled": true
   },
   "outputs": [],
   "source": [
    "exc = edges.register_and_launch(\"flyteexamples\", \"development\", inputs={\"image\":example_image, \"script\":script_path})\n",
    "\n",
    "print_console_url(exc)\n"
   ]
  },
  {
   "cell_type": "code",
   "execution_count": null,
   "metadata": {},
   "outputs": [],
   "source": [
    "exc.wait_for_completion()\n",
    "#exc.outputs\n",
    "# Outputs are not working with Minio"
   ]
  },
  {
   "cell_type": "markdown",
   "metadata": {},
   "source": [
    "## Step IV: Optional. Create a Workflow\n",
    "Ofcourse you can use this task in a workflow. We are creating a trivial workflow in this case that has only one task"
   ]
  },
  {
   "cell_type": "code",
   "execution_count": null,
   "metadata": {},
   "outputs": [],
   "source": [
    "from flytekit.sdk.workflow import workflow_class, Input, Output\n",
    "@workflow_class\n",
    "class EdgeDetector(object):\n",
    "    script = Input(Types.Blob)\n",
    "    image = Input(Types.Blob)\n",
    "    edge_task = edges(script=script, image=image)\n",
    "    out =  Output(edge_task.outputs.edges, sdk_type=Types.Blob)\n",
    "\n",
    "EdgeDetector_lp = EdgeDetector.create_launch_plan() "
   ]
  },
  {
   "cell_type": "markdown",
   "metadata": {},
   "source": [
    "## Step V: Optional. Register and execute the workflow\n",
    "To make the dynamic loading of the script work, we have to upload the script to some s3 bucket. Since we are testing this locally, I have originally created an s3 client that points to Flyte installed minio. Upload the code there too\n",
    "```python\n",
    "s3.Bucket('my-s3-bucket').upload_file('image.py','code/image.py')\n",
    "```"
   ]
  },
  {
   "cell_type": "code",
   "execution_count": null,
   "metadata": {},
   "outputs": [],
   "source": [
    "edges.register(name=\"EdgeDetectorFunc\", project=\"flyteexamples\", domain=\"development\", version=\"5\")\n",
    "EdgeDetector.register(name=\"EdgeDetector\", project=\"flyteexamples\", domain=\"development\", version=\"5\")\n",
    "EdgeDetector_lp.register(name=\"EdgeDetector\", project=\"flyteexamples\", domain=\"development\", version=\"5\")"
   ]
  },
  {
   "cell_type": "code",
   "execution_count": null,
   "metadata": {},
   "outputs": [],
   "source": [
    "exc = EdgeDetector_lp.execute(\"flyteexamples\", \"development\", inputs={\"image\":example_image, \"script\":script_path})\n",
    "print_console_url(exc)"
   ]
  },
  {
   "cell_type": "markdown",
   "metadata": {},
   "source": [
    "## Step VI: Visualize the results\n",
    "You can retrieve the results and visualize them here"
   ]
  },
  {
   "cell_type": "code",
   "execution_count": null,
   "metadata": {},
   "outputs": [],
   "source": [
    "key=\"/gn/ff554920363ff4da1903-edge-task-0/edges\"\n",
    "s3.Bucket('my-s3-bucket').download_file(key,'edges.png')"
   ]
  },
  {
   "cell_type": "code",
   "execution_count": null,
   "metadata": {},
   "outputs": [],
   "source": [
    "display_images([\"edges.png\"])"
   ]
  }
 ],
 "metadata": {
  "kernelspec": {
   "display_name": "Python 3",
   "language": "python",
   "name": "python3"
  },
  "language_info": {
   "codemirror_mode": {
    "name": "ipython",
    "version": 3
   },
   "file_extension": ".py",
   "mimetype": "text/x-python",
   "name": "python",
   "nbconvert_exporter": "python",
   "pygments_lexer": "ipython3",
   "version": "3.7.6"
  }
 },
 "nbformat": 4,
 "nbformat_minor": 2
}
