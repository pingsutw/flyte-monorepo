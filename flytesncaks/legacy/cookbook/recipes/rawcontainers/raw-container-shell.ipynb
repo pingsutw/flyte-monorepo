{
 "cells": [
  {
   "cell_type": "code",
   "execution_count": 1,
   "metadata": {},
   "outputs": [
    {
     "name": "stdout",
     "output_type": "stream",
     "text": [
      "Connected to localhost:30081\n"
     ]
    }
   ],
   "source": [
    "from flytekit.configuration import set_flyte_config_file, platform\n",
    "set_flyte_config_file(\"../../notebook.config\")\n",
    "\n",
    "print(\"Connected to {}\".format(platform.URL.get()))\n",
    "\n",
    "def print_console_url(exc):\n",
    "    print(\"http://{}/console/projects/{}/domains/{}/executions/{}\".format(platform.URL.get(), exc.id.project, exc.id.domain, exc.id.name))"
   ]
  },
  {
   "cell_type": "markdown",
   "metadata": {},
   "source": [
    "# Demo: Workflow without flytekit dependency in containers\n",
    "\n",
    "This is a simple workflow where we will show how one can use flytekit to create a workflow that needs not container building, but uses an existing set of container to run logic. It also demonstrates that even in this case memoization, cataloging and input/output types are preserved.\n",
    "\n",
    "## Step I: Lets declare a couple tasks.\n",
    "\n",
    "### Task 1: square\n",
    "Given an integer returns the squre of the integer"
   ]
  },
  {
   "cell_type": "code",
   "execution_count": 2,
   "metadata": {},
   "outputs": [],
   "source": [
    "from flytekit.common.tasks.raw_container import SdkRawContainerTask\n",
    "from flytekit.sdk.types import Types\n",
    "\n",
    "square = SdkRawContainerTask(\n",
    "    input_data_dir=\"/var/inputs\",\n",
    "    output_data_dir=\"/var/outputs\",\n",
    "    inputs={\"val\": Types.Integer},\n",
    "    outputs={\"out\": Types.Integer},\n",
    "    image=\"alpine\",\n",
    "    command=[\"sh\", \"-c\", \"echo $(( {{.Inputs.val}} * {{.Inputs.val}} )) | tee /var/outputs/out\"],\n",
    ")\n"
   ]
  },
  {
   "cell_type": "markdown",
   "metadata": {},
   "source": [
    "### Task 2: sum\n",
    "Given two integer x & y returns the sum (x + y)"
   ]
  },
  {
   "cell_type": "code",
   "execution_count": 3,
   "metadata": {},
   "outputs": [],
   "source": [
    "sum = SdkRawContainerTask(\n",
    "    input_data_dir=\"/var/flyte/inputs\",\n",
    "    output_data_dir=\"/var/flyte/outputs\",\n",
    "    inputs={\"x\": Types.Integer, \"y\": Types.Integer},\n",
    "    outputs={\"out\": Types.Integer},\n",
    "    image=\"alpine\",\n",
    "    command=[\"sh\", \"-c\", \"echo $(( {{.Inputs.x}} + {{.Inputs.y}} )) | tee /var/flyte/outputs/out\"],\n",
    ")\n"
   ]
  },
  {
   "cell_type": "markdown",
   "metadata": {},
   "source": [
    "## Step II: Declare a workflow\n",
    "#### Sum of Squares\n",
    "Given two integers x & y, return (x^2 + y^2)\n",
    "This is composed using two functions\n",
    " sum_of_squares = sum(square(x),square(y))"
   ]
  },
  {
   "cell_type": "code",
   "execution_count": 4,
   "metadata": {},
   "outputs": [],
   "source": [
    "from flytekit.sdk.workflow import workflow_class, Input, Output\n",
    "\n",
    "@workflow_class\n",
    "class SumOfSquares(object):\n",
    "    val1 = Input(Types.Integer)\n",
    "    val2 = Input(Types.Integer)\n",
    "    sq1 = square(val=val1)\n",
    "    sq2 = square(val=val2)\n",
    "    sm = sum(x=sq1.outputs.out, y=sq2.outputs.out)\n",
    "    sum_of_squares = Output(sm.outputs.out, sdk_type=Types.Integer)\n",
    "    \n",
    "SumOfSquares_lp = SumOfSquares.create_launch_plan() "
   ]
  },
  {
   "cell_type": "markdown",
   "metadata": {},
   "source": [
    "### Step III: Register the workflow & launch plan\n",
    "Register the workflow under project: flyteexamples "
   ]
  },
  {
   "cell_type": "code",
   "execution_count": 5,
   "metadata": {},
   "outputs": [
    {
     "data": {
      "text/plain": [
       "'lp:flyteexamples:development:SumOfSquares:x'"
      ]
     },
     "execution_count": 5,
     "metadata": {},
     "output_type": "execute_result"
    }
   ],
   "source": [
    "# Currently in flytekit you have to register the tasks first and then register the workflow\n",
    "square.register(name=\"square\", project=\"flyteexamples\", domain=\"development\", version=\"x\")\n",
    "sum.register(name=\"sum\", project=\"flyteexamples\", domain=\"development\", version=\"x\")\n",
    "\n",
    "# It will use the name of the tasks to find the registrations\n",
    "SumOfSquares.register(name=\"SumOfSquares\", project=\"flyteexamples\", domain=\"development\", version=\"x\")\n",
    "SumOfSquares_lp.register(name=\"SumOfSquares\", project=\"flyteexamples\", domain=\"development\", version=\"x\")"
   ]
  },
  {
   "cell_type": "code",
   "execution_count": 6,
   "metadata": {},
   "outputs": [
    {
     "name": "stderr",
     "output_type": "stream",
     "text": [
      "/Users/kumare/.virtualenvs/flytekit/lib/python3.7/site-packages/ipykernel_launcher.py:1: DeprecationWarning: Call to deprecated method execute. (Use launch instead) -- Deprecated since version 0.9.0.\n",
      "  \"\"\"Entry point for launching an IPython kernel.\n"
     ]
    },
    {
     "name": "stdout",
     "output_type": "stream",
     "text": [
      "http://localhost:30081/console/projects/flyteexamples/domains/development/executions/f8f61c1361dc246bca1c\n"
     ]
    }
   ],
   "source": [
    "exc = SumOfSquares_lp.execute(\"flyteexamples\", \"development\", inputs={\"val1\": 3, \"val2\": 2})\n",
    "print_console_url(exc)"
   ]
  },
  {
   "cell_type": "code",
   "execution_count": 7,
   "metadata": {},
   "outputs": [],
   "source": [
    "exc.wait_for_completion()"
   ]
  },
  {
   "cell_type": "code",
   "execution_count": 8,
   "metadata": {},
   "outputs": [
    {
     "data": {
      "text/plain": [
       "{'sum_of_squares': 13}"
      ]
     },
     "execution_count": 8,
     "metadata": {},
     "output_type": "execute_result"
    }
   ],
   "source": [
    "exc.outputs"
   ]
  },
  {
   "cell_type": "code",
   "execution_count": null,
   "metadata": {},
   "outputs": [],
   "source": []
  }
 ],
 "metadata": {
  "kernelspec": {
   "display_name": "Python 3.7.4 64-bit ('flytekit': virtualenv)",
   "language": "python",
   "name": "python37464bitflytekitvirtualenv72cbb5e9968e4a299c6026c09cce8d4c"
  },
  "language_info": {
   "codemirror_mode": {
    "name": "ipython",
    "version": 3
   },
   "file_extension": ".py",
   "mimetype": "text/x-python",
   "name": "python",
   "nbconvert_exporter": "python",
   "pygments_lexer": "ipython3",
   "version": "3.7.4"
  }
 },
 "nbformat": 4,
 "nbformat_minor": 2
}
