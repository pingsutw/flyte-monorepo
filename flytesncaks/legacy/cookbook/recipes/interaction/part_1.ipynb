{
 "cells": [
  {
   "cell_type": "code",
   "execution_count": null,
   "metadata": {},
   "outputs": [],
   "source": [
    "from flytekit.configuration import set_flyte_config_file, platform\n",
    "set_flyte_config_file(\"../../notebook.config\")\n",
    "print(\"Connected to {}\".format(platform.URL.get()))\n",
    "\n",
    "from jupyter_helpers import print_console_url"
   ]
  },
  {
   "cell_type": "markdown",
   "metadata": {},
   "source": [
    "# Section I: Execute registered Tasks\n",
    "\n",
    "## Option 1: Execute without having the right environment setup\n",
    "This option involves fetching the remote task and then requesting an execution in your own namespace.\n",
    "This concept is what is also used in Sharing.\n",
    "\n",
    "To start an execution following pieces of information are required\n",
    " - project: The project where the task was registered\n",
    " - domain: Domain where the task was registered\n",
    " - name: Name of the registered task. This is the canonical name (usually includes the module name). You can lookup using flyte-cli or console or arrive at it using \"root_module.module....task\" pattern\n",
    " - Version! This is the version of the registered task\n",
    " \n",
    "**Note** Version is the most important to pinpoint the task to execute. At the same time Flyte can have multiple versions active. Cookbook build system uses Git-SHA to version a release. So you can use the latest git-sha from flytesnacks as the release identifier.\n"
   ]
  },
  {
   "cell_type": "code",
   "execution_count": null,
   "metadata": {},
   "outputs": [],
   "source": [
    "from flytekit.common.tasks.task import SdkTask\n",
    "version = \"f6268cf16c52bb457b3a3404e98e68b307bad834\" ## Replace this\n",
    "remote_task = SdkTask.fetch(project=\"flytesnacks\", domain=\"development\", name=\"task.tasks.scale\", version=version)"
   ]
  },
  {
   "cell_type": "code",
   "execution_count": null,
   "metadata": {},
   "outputs": [],
   "source": [
    "exe = remote_task.launch(project=\"flytesnacks\", domain=\"development\", inputs={\"image\":\"https://miro.medium.com/max/1400/1*qL8UYfaStcEo_YVPrA4cbA.png\", \"scale_factor\":4})\n",
    "print_console_url(exe)"
   ]
  },
  {
   "cell_type": "markdown",
   "metadata": {},
   "source": [
    "### Load outputs for introspection\n",
    "**TODO** This does not work on sandbox environment today as minio is not available on the same port"
   ]
  },
  {
   "cell_type": "code",
   "execution_count": null,
   "metadata": {},
   "outputs": [],
   "source": [
    "exe.wait_for_completion()\n",
    "# In sandbox outputs does not work because the dns points to k8s local address, but this is not available on localhost\n",
    "#. we can create a hostfile entry but that would be too complicated\n",
    "exe.outputs"
   ]
  },
  {
   "cell_type": "markdown",
   "metadata": {},
   "source": [
    "## Option 2: Execute by loading the current code \n",
    "\n",
    "This is only supported for non-container (like queries etc), pre-built containers like Sagemaker etc and Raw containers tasks. For tasks that are written in containers, this is not directly supported as it would easily confuse the user about false iteration, without building a container.\n",
    "\n",
    "**NOTE** this is an active area of work, come back again and you will see an update.\n"
   ]
  },
  {
   "cell_type": "markdown",
   "metadata": {},
   "source": [
    "# Section II: Execute registered Workflows\n",
    "\n",
    "## Option 1: Execute without the environment setup\n",
    "This option involves fetching the remote workflow (pre-registered) and then requesting an execution in your own namespace.\n",
    "This concept is what is also used in Sharing.\n",
    "\n",
    "Flyte Workflows are not directly executable. Only launch plans are executable. LaunchPlans allow partial specialization of inputs and allow specifying schedules. This enables Flyte workflows to have multiple schedules at the same time (with different default input values). Refer to the docs to understand LaunchPlans in more depth.\n",
    "\n",
    "**NOTE** Flytekit automatically creates a **default** launch plan when a workflow is registered. A Default launchplan is exactly like a Workflow.\n",
    "\n",
    "To start an execution following pieces of information are required\n",
    " - project: The project where the task was registered\n",
    " - domain: Domain where the task was registered\n",
    " - name: Name of the registered Launch plan - *for default launch plans the name is identical to the workflow name*. The Workflow name is the canonical name (usually includes the module name). You can lookup using flyte-cli or console or arrive at it using \"root_module.module....task\" pattern\n",
    " - Version! This is the version of the registered task\n",
    " \n",
    "**Note** Version is the most important to pinpoint the workflow/launchplan to execute. At the same time Flyte can have multiple versions active. Cookbook build system uses Git-SHA to version a release. So you can use the latest git-sha from flytesnacks as the release identifier.\n"
   ]
  },
  {
   "cell_type": "code",
   "execution_count": null,
   "metadata": {},
   "outputs": [],
   "source": [
    "from flytekit.common.launch_plan import SdkLaunchPlan\n",
    "remote_lp = SdkLaunchPlan.fetch(project=\"flytesnacks\", domain=\"development\", name=\"workflows.workflows.FailingWorkflow\", version=version)"
   ]
  },
  {
   "cell_type": "code",
   "execution_count": null,
   "metadata": {},
   "outputs": [],
   "source": [
    "exe = remote_lp.execute(project=\"flytesnacks\", domain=\"development\", inputs={\"in_image\": \"https://miro.medium.com/max/1400/1*qL8UYfaStcEo_YVPrA4cbA.png\", \"angle\": 180.0})\n",
    "print_console_url(exe)"
   ]
  },
  {
   "cell_type": "markdown",
   "metadata": {},
   "source": [
    "# Section III: Load Error for introspection\n",
    "Flyte returns the error captured during execution through the API.\n",
    "This can be captured in multiple ways, if using flytekit, then \"raising\" any Python Exception will be captured. If using raw container, then raw stdout / stderr will be captured, or error can be written to a special file."
   ]
  },
  {
   "cell_type": "code",
   "execution_count": null,
   "metadata": {},
   "outputs": [],
   "source": [
    "from flytekit.common.workflow_execution import SdkWorkflowExecution\n",
    "exe.wait_for_completion()\n",
    "name = exe.id.name\n",
    "# WE are using the name to fetch the execution. This is a contrived example and only exists to show how this can be done\n",
    "exe = SdkWorkflowExecution.fetch(project=\"flytesnacks\", domain=\"development\", name=name)\n",
    "exe.error"
   ]
  },
  {
   "cell_type": "markdown",
   "metadata": {},
   "source": [
    "# Section IV: Relaunch the failed execution\n",
    "Sometimes relaunching an execution is what is required just with a different parameter. This is usually preferable if one of the inputs was incorrect or if the workflow execution failed due to a system or any other retryable failure.\n",
    "\n",
    "### Lets fetch the execution information first\n"
   ]
  },
  {
   "cell_type": "code",
   "execution_count": null,
   "metadata": {},
   "outputs": [],
   "source": [
    "from flytekit.common.workflow_execution import SdkWorkflowExecution\n",
    "exe = SdkWorkflowExecution.fetch(project=\"flytesnacks\", domain=\"development\", name=name)\n"
   ]
  },
  {
   "cell_type": "markdown",
   "metadata": {},
   "source": [
    "### Now fetch the launch plan to execute, note this can be different version."
   ]
  },
  {
   "cell_type": "code",
   "execution_count": null,
   "metadata": {},
   "outputs": [],
   "source": [
    "from flytekit.common.launch_plan import SdkLaunchPlan\n",
    "remote_lp = SdkLaunchPlan.fetch(project=\"flytesnacks\", domain=\"development\", name=\"workflows.workflows.FailingWorkflow\", version=version)\n",
    "## Now just execute like previous"
   ]
  },
  {
   "cell_type": "code",
   "execution_count": null,
   "metadata": {},
   "outputs": [],
   "source": []
  }
 ],
 "metadata": {
  "kernelspec": {
   "display_name": "cookbook",
   "language": "python",
   "name": "cookbook"
  },
  "language_info": {
   "codemirror_mode": {
    "name": "ipython",
    "version": 3
   },
   "file_extension": ".py",
   "mimetype": "text/x-python",
   "name": "python",
   "nbconvert_exporter": "python",
   "pygments_lexer": "ipython3",
   "version": "3.7.4"
  }
 },
 "nbformat": 4,
 "nbformat_minor": 4
}
