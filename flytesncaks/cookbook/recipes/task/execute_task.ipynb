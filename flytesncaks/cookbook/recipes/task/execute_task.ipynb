{
 "cells": [
  {
   "cell_type": "markdown",
   "metadata": {},
   "source": [
    "# Execute your tasks locally\n",
    "\n",
    "To execute your tasks locally, just import the module and invoke the task using the method ``unit_test``\n",
    "\n",
    "**Note** Only pass the inputs that are used by the function. Outputs will be returned as a ``dictionary``"
   ]
  },
  {
   "cell_type": "code",
   "execution_count": null,
   "metadata": {},
   "outputs": [],
   "source": [
    "import tasks\n",
    "\n",
    "out = tasks.scale.unit_test(image=\"https://miro.medium.com/max/1400/1*qL8UYfaStcEo_YVPrA4cbA.png\", scale_factor=4)"
   ]
  },
  {
   "cell_type": "markdown",
   "metadata": {},
   "source": [
    "## Access outputs\n",
    "The output of the scale method in this case is `out_image`. The out variable is actually of type dictionary."
   ]
  },
  {
   "cell_type": "code",
   "execution_count": null,
   "metadata": {},
   "outputs": [],
   "source": [
    "from IPython.display import Image, display\n",
    "Image(out['out_image'].uri, format=\"png\")"
   ]
  }
 ],
 "metadata": {
  "kernelspec": {
   "display_name": "cookbook",
   "language": "python",
   "name": "cookbook"
  },
  "language_info": {
   "codemirror_mode": {
    "name": "ipython",
    "version": 3
   },
   "file_extension": ".py",
   "mimetype": "text/x-python",
   "name": "python",
   "nbconvert_exporter": "python",
   "pygments_lexer": "ipython3",
   "version": "3.7.4"
  }
 },
 "nbformat": 4,
 "nbformat_minor": 4
}
