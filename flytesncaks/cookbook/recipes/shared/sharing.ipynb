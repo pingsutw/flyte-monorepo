{
 "cells": [
  {
   "cell_type": "code",
   "execution_count": null,
   "metadata": {},
   "outputs": [],
   "source": [
    "from flytekit.configuration import set_flyte_config_file, platform\n",
    "set_flyte_config_file(\"../../notebook.config\")\n",
    "\n",
    "print(\"Connected to {}\".format(platform.URL.get()))\n",
    "\n",
    "def print_console_url(exc):\n",
    "    print(\"http://{}/console/projects/{}/domains/{}/executions/{}\".format(platform.URL.get(), exc.id.project, exc.id.domain, exc.id.name))"
   ]
  },
  {
   "cell_type": "markdown",
   "metadata": {},
   "source": [
    "# Write a workflow with shared tasks and workflows\n",
    "\n",
    "Flyte tasks and workflows are natively shareable, i.e., like an library you can introduce a dependency on a remote task/workflow in flyte. Flytekit does this using the *fetch* method.\n",
    "\n",
    "*To get started, lets first determine the version of the tasks and workflows we will use. In cookbook this corresponds to the last successfully built git-sha*"
   ]
  },
  {
   "cell_type": "code",
   "execution_count": null,
   "metadata": {},
   "outputs": [],
   "source": [
    "version=\"f6268cf16c52bb457b3a3404e98e68b307bad834\""
   ]
  },
  {
   "cell_type": "markdown",
   "metadata": {},
   "source": [
    "## Lets fetch the *scale* task"
   ]
  },
  {
   "cell_type": "code",
   "execution_count": null,
   "metadata": {},
   "outputs": [],
   "source": [
    "from flytekit.common.tasks.task import SdkTask\n",
    "scale_task = SdkTask.fetch(\"flytesnacks\", \"development\", \"recipes.task.tasks.scale\", version=version)"
   ]
  },
  {
   "cell_type": "markdown",
   "metadata": {},
   "source": [
    "## Instead of the *rotate* task we will fetch the *Backfill* workflow which is nothing but a wrapper around the rotate task\n",
    "\n",
    "This shows that workflows can be shared as well. WE will also show how to create a composite workflow with a task and another subworkflow"
   ]
  },
  {
   "cell_type": "code",
   "execution_count": null,
   "metadata": {},
   "outputs": [],
   "source": [
    "from flytekit.common.launch_plan import SdkLaunchPlan\n",
    "shared_backfill_lp = SdkLaunchPlan.fetch(\"flytesnacks\", \"development\", \"recipes.interaction.backfill.BackfillWorkflow\", version=version)"
   ]
  },
  {
   "cell_type": "markdown",
   "metadata": {},
   "source": [
    "## Let us create a workflow with these *fetched* tasks and workflows"
   ]
  },
  {
   "cell_type": "code",
   "execution_count": null,
   "metadata": {},
   "outputs": [],
   "source": [
    "from flytekit.sdk.types import Types\n",
    "from flytekit.sdk.workflow import workflow_class, Input, Output, workflow\n",
    "\n",
    "@workflow_class\n",
    "class WorkflowFromSharedTasks():\n",
    "    in_image = Input(Types.Blob, default=Types.Blob.create_at_known_location(\n",
    "        \"https://miro.medium.com/max/1400/1*qL8UYfaStcEo_YVPrA4cbA.png\"))\n",
    "    angle = Input(Types.Float, default=180.0)\n",
    "    scale = Input(Types.Integer, default=2)\n",
    "\n",
    "    scaled = scale_task(image=in_image, scale_factor=scale)\n",
    "    rotated = shared_backfill_lp(in_image=scaled.outputs.out_image, angle=angle)\n",
    "    \n",
    "    out_image = Output(rotated.outputs.out_image, sdk_type=Types.Blob)"
   ]
  },
  {
   "cell_type": "markdown",
   "metadata": {},
   "source": [
    "## Register them"
   ]
  },
  {
   "cell_type": "code",
   "execution_count": null,
   "metadata": {},
   "outputs": [],
   "source": [
    "shared_lp = WorkflowFromSharedTasks.create_launch_plan()"
   ]
  },
  {
   "cell_type": "code",
   "execution_count": null,
   "metadata": {},
   "outputs": [],
   "source": [
    "WorkflowFromSharedTasks.register(project=\"flytesnacks\", domain=\"development\", name=\"SharedWorkflow\", version=\"1\")\n",
    "shared_lp.register(project=\"flytesnacks\", domain=\"development\", name=\"SharedWorkflow\", version=\"1\")"
   ]
  },
  {
   "cell_type": "markdown",
   "metadata": {},
   "source": [
    "## Launch and check the outputs"
   ]
  },
  {
   "cell_type": "code",
   "execution_count": null,
   "metadata": {},
   "outputs": [],
   "source": [
    "exe=shared_lp.launch(project=\"flytesnacks\", domain=\"development\")"
   ]
  },
  {
   "cell_type": "code",
   "execution_count": null,
   "metadata": {},
   "outputs": [],
   "source": [
    "print_console_url(exe)"
   ]
  },
  {
   "cell_type": "code",
   "execution_count": null,
   "metadata": {},
   "outputs": [],
   "source": [
    "exe.wait_for_completion()"
   ]
  },
  {
   "cell_type": "code",
   "execution_count": null,
   "metadata": {},
   "outputs": [],
   "source": [
    "exe.outputs"
   ]
  },
  {
   "cell_type": "code",
   "execution_count": null,
   "metadata": {},
   "outputs": [],
   "source": [
    "img = exe.outputs[\"out_image\"]"
   ]
  }
 ],
 "metadata": {
  "kernelspec": {
   "display_name": "cookbook",
   "language": "python",
   "name": "cookbook"
  },
  "language_info": {
   "codemirror_mode": {
    "name": "ipython",
    "version": 3
   },
   "file_extension": ".py",
   "mimetype": "text/x-python",
   "name": "python",
   "nbconvert_exporter": "python",
   "pygments_lexer": "ipython3",
   "version": "3.7.4"
  }
 },
 "nbformat": 4,
 "nbformat_minor": 4
}
